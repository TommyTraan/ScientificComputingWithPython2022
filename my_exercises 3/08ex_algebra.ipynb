{
 "cells": [
  {
   "cell_type": "markdown",
   "id": "64241357",
   "metadata": {},
   "source": [
    "# Exercise 8: Algebra\n",
    "# Duy Tommy Tran\n",
    "\n",
    "#### Importing library"
   ]
  },
  {
   "cell_type": "code",
   "execution_count": 1,
   "id": "ba2659aa",
   "metadata": {},
   "outputs": [],
   "source": [
    "import numpy as np\n",
    "import numpy.random as npr\n",
    "import pandas as pd\n",
    "from scipy import linalg as la\n",
    "\n",
    "from matplotlib import pyplot as plt\n",
    "import matplotlib as mpl\n",
    "%matplotlib notebook\n",
    "%matplotlib inline"
   ]
  },
  {
   "cell_type": "code",
   "execution_count": 2,
   "id": "1adae1a9",
   "metadata": {},
   "outputs": [],
   "source": [
    "# Defining some figure parameters\n",
    "mpl.rcParams.update({'figure.figsize': (10.0, 7),                   # Figuresize\n",
    "                     'legend.fontsize': 17, 'legend.handlelength': 3, # Legend\n",
    "                     'xtick.labelsize': 15, 'ytick.labelsize': 15,    # Tick-sizes of the axes\n",
    "                     'font.size': 15})                                # Fontsize"
   ]
  },
  {
   "cell_type": "markdown",
   "id": "93879529",
   "metadata": {},
   "source": [
    "1\\. **PCA on 3D dataset**\n",
    "\n",
    "* Generate a dataset simulating 3 features, each with N entries (N being ${\\cal O}(1000)$). Each feature is made by random numbers generated according the normal distribution $N(\\mu,\\sigma)$ with mean $\\mu_i$ and standard deviation $\\sigma_i$, with $i=1, 2, 3$. Generate the 3 variables $x_{i}$ such that:\n",
    "    * $x_1$ is distributed as $N(0,1)$\n",
    "    * $x_2$ is distributed as $x_1+N(0,3)$\n",
    "    * $x_3$ is given by $2x_1+x_2$\n",
    "* Find the eigenvectors and eigenvalues using the eigendecomposition of the covariance matrix\n",
    "* Find the eigenvectors and eigenvalues using the SVD. Check that the two procedures yield to same result\n",
    "* What percent of the total dataset's variability is explained by the principal components? Given how the dataset was constructed, do these make sense? Reduce the dimensionality of the system so that at least 99% of the total variability is retained\n",
    "* Redefine the data according to the new basis from the PCA\n",
    "* Plot the data, in both the original and the new basis. The figure should have 2 rows (the original and the new basis) and 3 columns (the $[x_0, x_1]$, $[x_0, x_2]$ and $[x_1, x_2]$ projections) of scatter plots."
   ]
  },
  {
   "cell_type": "code",
   "execution_count": 3,
   "id": "587062ce",
   "metadata": {},
   "outputs": [],
   "source": [
    "N = 1000\n",
    "\n",
    "mu = 0        # mean\n",
    "sigma1 = 1    # std\n",
    "sigma2 = 3\n",
    "\n",
    "x1 = np.random.normal(mu, sigma1, N)\n",
    "x2 = x1 + np.random.normal(mu, sigma2, N)\n",
    "x3 = 2*x1 + x2\n",
    "\n",
    "X = np.vstack((x1, x2, x3))"
   ]
  },
  {
   "cell_type": "code",
   "execution_count": 4,
   "id": "8e2f75b6",
   "metadata": {},
   "outputs": [
    {
     "name": "stdout",
     "output_type": "stream",
     "text": [
      "Covariance:\n",
      " [[ 1.05912604  1.27954529  3.39779738]\n",
      " [ 1.27954529 10.58996892 13.14905951]\n",
      " [ 3.39779738 13.14905951 19.94465426]] \n",
      "\n",
      "Eigenvalues:\n",
      " [ 2.96557343e+01 -5.90456793e-16  1.93801488e+00] \n",
      "\n",
      "Eigenvectors:\n",
      " [[-0.12208433 -0.81649658  0.56429491]\n",
      " [-0.56903297 -0.40824829 -0.71381707]\n",
      " [-0.81320163  0.40824829  0.41477275]] \n",
      "\n"
     ]
    }
   ],
   "source": [
    "# Covariance matrix\n",
    "cov = np.cov(X)\n",
    "\n",
    "# The eigenvalues and eigenvectors of the covariance matrix\n",
    "l, V = la.eig(cov)\n",
    "l = np.real_if_close(l)\n",
    "\n",
    "print(f'Covariance:\\n {cov} \\n')\n",
    "print(f'Eigenvalues:\\n {l} \\n')\n",
    "print(f'Eigenvectors:\\n {V} \\n')"
   ]
  },
  {
   "cell_type": "code",
   "execution_count": 5,
   "id": "48dc92ed",
   "metadata": {},
   "outputs": [
    {
     "name": "stdout",
     "output_type": "stream",
     "text": [
      "Eigenvalues:\n",
      " [2.96580500e+01 1.94422630e+00 2.99563951e-31] \n",
      "\n",
      "Eigenvectors:\n",
      " [[-0.12216155  0.5642782  -0.81649658]\n",
      " [-0.56893529 -0.71389493 -0.40824829]\n",
      " [-0.81325838  0.41466147  0.40824829]] \n",
      "\n"
     ]
    }
   ],
   "source": [
    "# SVD decomposition\n",
    "U, S, Vt = np.linalg.svd(X)\n",
    "\n",
    "# Rescale the SVD spectrum to get the eigenvalues\n",
    "l_svd = S**2/(N-1)\n",
    "# The matrix U already contains the eigenvectors\n",
    "V_svd = U\n",
    "\n",
    "print(f'Eigenvalues:\\n {l_svd} \\n')\n",
    "print(f'Eigenvectors:\\n {V_svd} \\n')"
   ]
  },
  {
   "cell_type": "code",
   "execution_count": 6,
   "id": "93c7bd66",
   "metadata": {},
   "outputs": [
    {
     "name": "stdout",
     "output_type": "stream",
     "text": [
      "Eigendecomposition:\n",
      " [ 2.96557343e+01 -5.90456793e-16  1.93801488e+00]\n",
      "SVD:\n",
      " [2.96580500e+01 1.94422630e+00 2.99563951e-31] \n",
      "\n",
      "Two of the values are similar, but one of them are not. \n",
      " \n",
      "\n",
      "Eigendecomposition:\n",
      " [[-0.12208433 -0.81649658  0.56429491]\n",
      " [-0.56903297 -0.40824829 -0.71381707]\n",
      " [-0.81320163  0.40824829  0.41477275]]\n",
      "SVD:\n",
      " [[-0.12216155  0.5642782  -0.81649658]\n",
      " [-0.56893529 -0.71389493 -0.40824829]\n",
      " [-0.81325838  0.41466147  0.40824829]] \n",
      "\n",
      "They are similar.\n"
     ]
    }
   ],
   "source": [
    "# Compare Eigenvalues\n",
    "print(f'Eigendecomposition:\\n {l}')\n",
    "print(f'SVD:\\n {l_svd} \\n')\n",
    "\n",
    "print('Two of the values are similar, but one of them are not. \\n \\n')\n",
    "\n",
    "\n",
    "# Compare Eigenvectors\n",
    "print(f'Eigendecomposition:\\n {V}')\n",
    "print(f'SVD:\\n {V_svd} \\n')\n",
    "\n",
    "print('They are similar.')"
   ]
  },
  {
   "cell_type": "code",
   "execution_count": 7,
   "id": "8de4eb4a",
   "metadata": {},
   "outputs": [
    {
     "name": "stdout",
     "output_type": "stream",
     "text": [
      "Principal component 0: 93.85% of total variability\n",
      "Principal component 1: 6.15% of total variability\n",
      "Principal component 2: 0.00% of total variability\n",
      "\n",
      "The first principal component itself is close to 100%. \n",
      "This is because x1 is directly from a random distribution, while x2 and x3 are a function of x1 and each other, so x1 will dominate the total variability.\n"
     ]
    }
   ],
   "source": [
    "# Variability percentage\n",
    "Lambda = np.diag(l_svd)\n",
    "for i in range(3):\n",
    "    print(f'Principal component {i}: {\"{:.2f}\".format(Lambda[i, i]/Lambda.trace()*100)}% of total variability')\n",
    "\n",
    "print('\\nThe first principal component itself is close to 100%. ')\n",
    "print('This is because x1 is directly from a random distribution, while x2 and x3 are a function of x1 and each other, so x1 will dominate the total variability.')"
   ]
  },
  {
   "cell_type": "code",
   "execution_count": 8,
   "id": "4a0f2a4e",
   "metadata": {},
   "outputs": [
    {
     "data": {
      "image/png": "[encoded data removed]",
      "text/plain": [
       "<Figure size 936x1008 with 6 Axes>"
      ]
     },
     "metadata": {
      "needs_background": "light"
     },
     "output_type": "display_data"
    }
   ],
   "source": [
    "XP = np.dot(V_svd.T, X)\n",
    "\n",
    "fig, axes = plt.subplots(nrows=3, ncols=2, figsize=(13,14))\n",
    "ax00, ax01, ax10, ax11, ax20, ax21 = axes.flatten()\n",
    "plt.setp(axes, xlim=(-20,20), ylim=(-15,15))\n",
    "\n",
    "ax00.set_title('Original data')\n",
    "ax00.scatter(X[0,:], X[1,:])\n",
    "ax00.set_xlabel('feature 1')\n",
    "ax00.set_ylabel('feature 2')\n",
    "\n",
    "ax10.scatter(X[0,:], X[2,:])\n",
    "ax10.set_xlabel('feature 1')\n",
    "ax10.set_ylabel('feature 3')\n",
    "\n",
    "ax20.scatter(X[1,:], X[2,:])\n",
    "ax20.set_xlabel('feature 2')\n",
    "ax20.set_ylabel('feature 3')\n",
    "\n",
    "ax01.set_title('New basis')\n",
    "ax01.scatter(XP[0,:], XP[1,:])\n",
    "ax01.set_xlabel('feature 1')\n",
    "ax01.set_ylabel('feature 2')\n",
    "\n",
    "ax11.scatter(XP[0,:], XP[2,:])\n",
    "ax11.set_xlabel('feature 1')\n",
    "ax11.set_ylabel('feature 3')\n",
    "\n",
    "ax21.scatter(XP[1,:], XP[2,:])\n",
    "ax21.set_xlabel('feature 2')\n",
    "ax21.set_ylabel('feature 3')\n",
    "\n",
    "plt.show()"
   ]
  },
  {
   "cell_type": "markdown",
   "id": "e045ce5d",
   "metadata": {},
   "source": [
    "2\\. **PCA on a nD dataset**\n",
    "\n",
    "* Start from the dataset you have genereted in the previous exercise and add uncorrelated random noise. Such noise should be represented by other 10 uncorrelated variables normally distributed, with a standard deviation much smaller (e.g. a factor 20) than those used to generate the $x_1$ and $x_2$. Repeat the PCA procedure and compare the results with what you have obtained before."
   ]
  },
  {
   "cell_type": "code",
   "execution_count": 9,
   "id": "780f0336",
   "metadata": {},
   "outputs": [],
   "source": [
    "# Random noise, uncorrelated normal distribution\n",
    "noise = []\n",
    "\n",
    "for i in range(10):\n",
    "    noise.append(npr.normal(loc=0, scale=1/20, size=N))\n",
    "\n",
    "X_nD = np.vstack([x1, x2, x3, *noise])"
   ]
  },
  {
   "cell_type": "code",
   "execution_count": 10,
   "id": "c35156fa",
   "metadata": {},
   "outputs": [
    {
     "name": "stdout",
     "output_type": "stream",
     "text": [
      "Eigenvalues:\n",
      " [ 2.96557626e+01  1.93803563e+00 -1.04796693e-15  2.99919825e-03\n",
      "  2.94234419e-03  2.76402198e-03  2.62174300e-03  2.51552736e-03\n",
      "  2.40904227e-03  2.35261789e-03  2.12163644e-03  2.18176299e-03\n",
      "  2.23450799e-03] \n",
      "\n"
     ]
    }
   ],
   "source": [
    "# PCA: eigendecomposition\n",
    "\n",
    "# Covariance matrix\n",
    "cov_nD = np.cov(X_nD)\n",
    "\n",
    "# Eigenvectors and eigenvalues\n",
    "l_nD, V_nD = la.eig(cov_nD)\n",
    "l_nD = np.real_if_close(l_nD)\n",
    "\n",
    "print(f'Eigenvalues:\\n {l_nD} \\n')\n",
    "#print(f'Eigenvectors:\\n {V_nD} \\n')"
   ]
  },
  {
   "cell_type": "code",
   "execution_count": 11,
   "id": "3a599e6d",
   "metadata": {},
   "outputs": [
    {
     "name": "stdout",
     "output_type": "stream",
     "text": [
      "Eigenvalues: \n",
      " [2.96580786e+01 1.94424575e+00 3.01405189e-03 2.94790259e-03\n",
      " 2.76528740e-03 2.62652814e-03 2.51589306e-03 2.41089801e-03\n",
      " 2.35262012e-03 2.23515853e-03 2.18192850e-03 2.12504360e-03\n",
      " 2.93581762e-31]\n"
     ]
    }
   ],
   "source": [
    "# SVD\n",
    "U_nD, S_nD, Vt = np.linalg.svd(X_nD)\n",
    "\n",
    "# Rescaling S\n",
    "l_svd_nD = S_nD**2/(N-1)\n",
    "\n",
    "# Eigenvectors\n",
    "V_svd_nD = U_nD\n",
    "\n",
    "print(f'Eigenvalues: \\n {l_svd_nD}')\n",
    "#print(f'Eigenvectors:\\n {V_svd_nD} \\n')"
   ]
  },
  {
   "cell_type": "code",
   "execution_count": 12,
   "id": "62d904ba",
   "metadata": {},
   "outputs": [
    {
     "name": "stdout",
     "output_type": "stream",
     "text": [
      "Eigendecomposition: \n",
      " [ 2.96557626e+01  1.93803563e+00 -1.04796693e-15  2.99919825e-03\n",
      "  2.94234419e-03  2.76402198e-03  2.62174300e-03  2.51552736e-03\n",
      "  2.40904227e-03  2.35261789e-03  2.12163644e-03  2.18176299e-03\n",
      "  2.23450799e-03] \n",
      "\n",
      "SVD: \n",
      " [2.96580786e+01 1.94424575e+00 3.01405189e-03 2.94790259e-03\n",
      " 2.76528740e-03 2.62652814e-03 2.51589306e-03 2.41089801e-03\n",
      " 2.35262012e-03 2.23515853e-03 2.18192850e-03 2.12504360e-03\n",
      " 2.93581762e-31]\n"
     ]
    }
   ],
   "source": [
    "# Comparing the eigenvalues\n",
    "print(f'Eigendecomposition: \\n {l_nD} \\n')\n",
    "print(f'SVD: \\n {l_svd_nD}')"
   ]
  },
  {
   "cell_type": "code",
   "execution_count": 13,
   "id": "a74fe6bc",
   "metadata": {},
   "outputs": [
    {
     "name": "stdout",
     "output_type": "stream",
     "text": [
      "Component 0: 93.773% of total variability\n",
      "Component 1: 6.147% of total variability\n",
      "Component 2: 0.010% of total variability\n",
      "Component 3: 0.009% of total variability\n",
      "Component 4: 0.009% of total variability\n",
      "Component 5: 0.008% of total variability\n",
      "Component 6: 0.008% of total variability\n",
      "Component 7: 0.008% of total variability\n",
      "Component 8: 0.007% of total variability\n",
      "Component 9: 0.007% of total variability\n",
      "Component 10: 0.007% of total variability\n",
      "Component 11: 0.007% of total variability\n",
      "Component 12: 0.000% of total variability\n",
      "\n",
      "The standard deviation with the random noise is in such small factor so they dont contribute alot to the total variability.\n"
     ]
    }
   ],
   "source": [
    "# Variability percentage\n",
    "Lambda = np.diag(l_svd_nD)\n",
    "for i in range(13):\n",
    "    print(f'Component {i}: {\"{:.3f}\".format(Lambda[i, i]/Lambda.trace()*100)}% of total variability')\n",
    "\n",
    "print(f'\\nThe standard deviation with the random noise is in such small factor so they dont contribute alot to the total variability.')"
   ]
  },
  {
   "cell_type": "markdown",
   "id": "c431585c",
   "metadata": {},
   "source": [
    "3\\. **Optional**: **PCA on the MAGIC dataset**\n",
    "\n",
    "Perform a PCA on the magic04.data dataset."
   ]
  },
  {
   "cell_type": "code",
   "execution_count": 14,
   "id": "8118c8ad",
   "metadata": {},
   "outputs": [],
   "source": [
    "# get the dataset and its description on the proper data directory\n",
    "#!wget https://archive.ics.uci.edu/ml/machine-learning-databases/magic/magic04.data -P data/\n",
    "#!wget https://archive.ics.uci.edu/ml/machine-learning-databases/magic/magic04.names -P data/ "
   ]
  }
 ],
 "metadata": {
  "kernelspec": {
   "display_name": "Python 3 (ipykernel)",
   "language": "python",
   "name": "python3"
  },
  "language_info": {
   "codemirror_mode": {
    "name": "ipython",
    "version": 3
   },
   "file_extension": ".py",
   "mimetype": "text/x-python",
   "name": "python",
   "nbconvert_exporter": "python",
   "pygments_lexer": "ipython3",
   "version": "3.9.12"
  }
 },
 "nbformat": 4,
 "nbformat_minor": 5
}
